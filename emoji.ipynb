{
 "cells": [
  {
   "cell_type": "code",
   "execution_count": 1,
   "id": "91ad9703",
   "metadata": {},
   "outputs": [],
   "source": [
    "import tkinter as tk\n",
    "from tkinter import *\n",
    "import cv2\n",
    "from PIL import Image, ImageTk\n",
    "import os\n",
    "import numpy as np\n",
    "from tensorflow import keras\n",
    "\n",
    "from keras.models import Sequential, load_model\n",
    "from keras.layers import Dense, Dropout, Flatten\n",
    "from keras.layers import Conv2D\n",
    "from keras.optimizers import Adam\n",
    "from keras.layers import MaxPooling2D\n",
    "from keras.preprocessing.image import ImageDataGenerator\n",
    "import threading\n"
   ]
  },
  {
   "cell_type": "code",
   "execution_count": 2,
   "id": "ffe1f505",
   "metadata": {},
   "outputs": [],
   "source": [
    "emotion_model = Sequential()\n",
    "emotion_model.add(Conv2D(32, kernel_size=(3,3), activation='relu', input_shape=(48,48,1)))\n",
    "emotion_model.add(Conv2D(64, kernel_size=(3,3), activation='relu'))\n",
    "emotion_model.add(MaxPooling2D(pool_size=(2,2)))\n",
    "emotion_model.add(Dropout(0.25))\n",
    "emotion_model.add(Conv2D(128, kernel_size=(3,3), activation='relu'))\n",
    "emotion_model.add(MaxPooling2D(pool_size=(2,2)))\n",
    "emotion_model.add(Conv2D(128, kernel_size=(3,3), activation='relu'))\n",
    "emotion_model.add(MaxPooling2D(pool_size=(2,2)))\n",
    "emotion_model.add(Dropout(0.25))\n",
    "emotion_model.add(Flatten())\n",
    "emotion_model.add(Dense(1024, activation='relu'))\n",
    "emotion_model.add(Dropout(0.5))\n",
    "emotion_model.add(Dense(7, activation='softmax'))\n",
    "emotion_model.load_weights('model.h5')\n",
    "cv2.ocl.setUseOpenCL(False)"
   ]
  },
  {
   "cell_type": "code",
   "execution_count": 3,
   "id": "ef88f7bd",
   "metadata": {},
   "outputs": [],
   "source": [
    "#emotion_dict = {0: \"Angry\", 1:\"Disgusted\", 2: \"Fearful\", 3:\"Happy\", 4:\"Neutral\", 5:\"Sad\", 6:\"Surprised\"}\n",
    "\n",
    "#cur_path = os.path.dirname(os.path.abspath(\"C:/Users/visha/EMOTION/\"))\n",
    "\n",
    "#emoji_dist={0:cur_path+\"Angry.png\", 1:cur_path+\"Disgusted.png\", 2:cur_path+\"Fearful.png\", 3:cur_path+\"Happy.png\", 4:cur_path+\"Neutral.png\", 5:cur_path+\"Sad.png\", 6:cur_path+\"Surprised.png\"}\n"
   ]
  },
  {
   "cell_type": "code",
   "execution_count": 4,
   "id": "e64bafd6",
   "metadata": {},
   "outputs": [],
   "source": [
    "#emotion_dict = {0: \"Angry\", 1:\"Disgusted\", 2: \"Fearful\", 3:\"Happy\", 4:\"Neutral\", 5:\"Sad\", 6:\"Surprised\"}\n",
    "\n",
    "#cur_path = os.path.dirname(os.path.abspath(\"__file__\")\n",
    "\n",
    "#emoji_dist={0:cur_path+\"/Angry.png\", 1:cur_path+\"/Disgusted.png\", 2:cur_path+\"/Fearful.png\", 3:cur_path+\"/Happy.png\", 4:cur_path+\"/Neutral.png\", 5:cur_path+\"/Sad.png\", 6:cur_path+\"/Surprised.png\"}\n"
   ]
  },
  {
   "cell_type": "code",
   "execution_count": 5,
   "id": "c2fb7aa5",
   "metadata": {},
   "outputs": [],
   "source": [
    "emotion_dict = {0: \"Angry\", 1:\"Disgusted\", 2: \"Fearful\", 3:\"Happy\", 4:\"Neutral\", 5:\"Sad\", 6:\"Surprised\"}\n",
    "emoji_dist={0:\"C:/Users/visha/Desktop/EMOTION/Angry.png\", 1:\"C:/Users/visha/Desktop/EMOTION/Disgusted.png\", 2:\"C:/Users/visha/Desktop/EMOTION/Fearful.png\", 3:\"C:/Users/visha/Desktop/EMOTION/Happy.png\", 4:\"C:/Users/visha/Desktop/EMOTION/Neutral.png\", 5:\"C:/Users/visha/Desktop/EMOTION/Sad.png\", 6:\"C:/Users/visha/Desktop/EMOTION/Surprised.png\"}"
   ]
  },
  {
   "cell_type": "code",
   "execution_count": 6,
   "id": "da65a446",
   "metadata": {},
   "outputs": [],
   "source": [
    "global last_frame1\n",
    "last_frame1 = np.zeros((480, 640, 3), dtype=np.uint8)\n",
    "global cap1\n",
    "show_text=[0]\n",
    "global frame_number"
   ]
  },
  {
   "cell_type": "code",
   "execution_count": 7,
   "id": "4f9aa828",
   "metadata": {},
   "outputs": [],
   "source": [
    "def show_subject():\n",
    "    #cap1=cv2.VideoCapture(r\"C:/Users/visha/Desktop/EMOTION/video2.mp4\")\n",
    "    cap1=cv2.VideoCapture(0)\n",
    "    if not cap1.isOpened():\n",
    "        print(\"Can't open the camera\")\n",
    "    global frame_number\n",
    "    length = int(cap1.get(cv2.CAP_PROP_FRAME_COUNT))\n",
    "    frame_number += 1\n",
    "    if frame_number >=length:\n",
    "        exit()\n",
    "    cap1.set(1, frame_number)\n",
    "    flag1, frame1 = cap1.read()\n",
    "    frame1= cv2.resize(frame1,(600,500))\n",
    "    bounding_box= cv2.CascadeClassifier(\"C:/ProgramData/Anaconda3/Lib/site-packages/cv2/data/haarcascade_frontalface_default.xml\")\n",
    "    gray_frame = cv2.cvtColor(frame1, cv2.COLOR_BGR2GRAY)\n",
    "    num_faces = bounding_box.detectMultiScale(gray_frame, scaleFactor=1.3, minNeighbors=5)\n",
    "    for(x, y, w, h) in num_faces:\n",
    "        cv2.rectangle(frame1, (x,y-50), (x+w, y+h+10),(250,0,0), 2)\n",
    "        roi_gray_frame = gray_frame[y:y+h, x:x+w]\n",
    "        cropped_img = np.expand_dims(np.expand_dims(cv2.resize(roi_gray_frame, (48,48)), -1),0)\n",
    "        prediction = emotion_model.predict(cropped_img)\n",
    "        maxindex = int(np.argmax(prediction))\n",
    "        cv2.putText(frame1, emotion_dict[maxindex], (x+20, y-60), cv2.FONT_HERSHEY_SIMPLEX, 1,(255,255,255), 2, cv2.LINE_AA)\n",
    "        show_text[0]=maxindex\n",
    "    if flag1 is None:\n",
    "        print(\"Major error!\")\n",
    "    elif flag1:\n",
    "        global last_frame1\n",
    "        last_frame1= frame1.copy()\n",
    "        pic= cv2.cvtColor(last_frame1, cv2.COLOR_BGR2RGB)\n",
    "        img= Image.fromarray(pic)\n",
    "        imgtk = ImageTk.PhotoImage(image=img)\n",
    "        lmain.imgtk=imgtk\n",
    "        lmain.configure(image=imgtk)\n",
    "        root.update()\n",
    "        lmain.after(10, show_subject)\n",
    "    if cv2.waitKey(1) & 0xFF == ord('q'):\n",
    "        exit()\n"
   ]
  },
  {
   "cell_type": "code",
   "execution_count": 8,
   "id": "d95629c0",
   "metadata": {},
   "outputs": [],
   "source": [
    "def show_avatar():\n",
    "    frame2=cv2.imread(emoji_dist[show_text[0]])\n",
    "    pic2=cv2.cvtColor(frame2,cv2.COLOR_BGR2RGB)\n",
    "    img2=Image.fromarray(frame2)\n",
    "    imgtk2= ImageTk.PhotoImage(image=img2)\n",
    "    lmain2.imgtk2=imgtk2\n",
    "    lmain3.configure(text=emotion_dict[show_text[0]], font=('arial',45,'bold'))\n",
    "\n",
    "    lmain2.configure(image=imgtk2)\n",
    "    root.update()\n",
    "    lmain2.after(10, show_avatar)"
   ]
  },
  {
   "cell_type": "code",
   "execution_count": 9,
   "id": "4dd20c3d",
   "metadata": {
    "scrolled": true
   },
   "outputs": [
    {
     "name": "stdout",
     "output_type": "stream",
     "text": [
      "1/1 [==============================] - 1s 530ms/step\n",
      "1/1 [==============================] - 0s 43ms/step\n",
      "1/1 [==============================] - 0s 31ms/step\n",
      "1/1 [==============================] - 0s 31ms/step\n",
      "1/1 [==============================] - 0s 26ms/step\n",
      "1/1 [==============================] - 0s 31ms/step\n",
      "1/1 [==============================] - 0s 31ms/step\n"
     ]
    },
    {
     "name": "stderr",
     "output_type": "stream",
     "text": [
      "Exception in Tkinter callback\n",
      "Traceback (most recent call last):\n",
      "  File \"C:\\ProgramData\\Anaconda3\\lib\\tkinter\\__init__.py\", line 1892, in __call__\n",
      "    return self.func(*args)\n",
      "  File \"C:\\ProgramData\\Anaconda3\\lib\\tkinter\\__init__.py\", line 814, in callit\n",
      "    func(*args)\n",
      "  File \"C:\\Users\\visha\\AppData\\Local\\Temp/ipykernel_23076/3222136678.py\", line 32, in show_subject\n",
      "    imgtk = ImageTk.PhotoImage(image=img)\n",
      "  File \"C:\\ProgramData\\Anaconda3\\lib\\site-packages\\PIL\\ImageTk.py\", line 112, in __init__\n",
      "    self.__photo = tkinter.PhotoImage(**kw)\n",
      "  File \"C:\\ProgramData\\Anaconda3\\lib\\tkinter\\__init__.py\", line 4064, in __init__\n",
      "    Image.__init__(self, 'photo', name, cnf, master, **kw)\n",
      "  File \"C:\\ProgramData\\Anaconda3\\lib\\tkinter\\__init__.py\", line 3997, in __init__\n",
      "    master = _get_default_root('create image')\n",
      "  File \"C:\\ProgramData\\Anaconda3\\lib\\tkinter\\__init__.py\", line 297, in _get_default_root\n",
      "    raise RuntimeError(f\"Too early to {what}: no default root window\")\n",
      "RuntimeError: Too early to create image: no default root window\n"
     ]
    }
   ],
   "source": [
    "if __name__ == '__main__' :\n",
    "    frame_number= 0\n",
    "    root=tk.Tk()\n",
    "    lmain = tk.Label(master=root,padx=50,bd=10)\n",
    "    lmain2 = tk.Label(master=root,bd=10)\n",
    "    lmain3 = tk.Label(master=root,bd=10,fg=\"#CDCDCD\",bg='black')\n",
    "    lmain.pack(side=LEFT)\n",
    "    lmain.place(x=50,y=250)\n",
    "    lmain3.pack()\n",
    "    lmain3.place(x=960,y=250)\n",
    "    lmain2.pack(side=RIGHT)\n",
    "    lmain2.place(x=900,y=350)\n",
    "\n",
    "    root.title(\"Photo To Emoji\")\n",
    "    root.geometry(\"1400x900+100+10\")\n",
    "    root['bg']='black'\n",
    "    exitButton = Button(root, text='Quit',fg='red',command=root.destroy,font=('arial',25,'bold')).pack(side = BOTTOM)\n",
    "    threading.Thread(target=show_subject).start()\n",
    "    threading.Thread(target=show_avatar).start()\n",
    "    root.mainloop()"
   ]
  },
  {
   "cell_type": "code",
   "execution_count": null,
   "id": "63bff63e",
   "metadata": {},
   "outputs": [],
   "source": []
  },
  {
   "cell_type": "code",
   "execution_count": null,
   "id": "7078eb8d",
   "metadata": {},
   "outputs": [],
   "source": []
  }
 ],
 "metadata": {
  "kernelspec": {
   "display_name": "Python 3 (ipykernel)",
   "language": "python",
   "name": "python3"
  },
  "language_info": {
   "codemirror_mode": {
    "name": "ipython",
    "version": 3
   },
   "file_extension": ".py",
   "mimetype": "text/x-python",
   "name": "python",
   "nbconvert_exporter": "python",
   "pygments_lexer": "ipython3",
   "version": "3.9.7"
  }
 },
 "nbformat": 4,
 "nbformat_minor": 5
}
